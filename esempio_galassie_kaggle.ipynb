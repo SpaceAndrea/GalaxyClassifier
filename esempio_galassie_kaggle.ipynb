{
 "cells": [
  {
   "cell_type": "code",
   "execution_count": 14,
   "metadata": {},
   "outputs": [],
   "source": [
    "#Importa le librerie necessarie per il progetto, come :\n",
    "# -TensorFlow e Keras per costruire e addestrare il modello, \n",
    "# -pandas per manipolare i dati, \n",
    "# -numpy per operazioni numeriche, \n",
    "# -sklearn per dividere i dati in training e validation, \n",
    "# -PIL per manipolare le immagini e \n",
    "# -matplotlib per la visualizzazione.\n",
    "import tensorflow as tf\n",
    "from tensorflow._api.v2.data import Dataset\n",
    "from keras._tf_keras.keras.preprocessing.image import ImageDataGenerator\n",
    "from keras.src.models import Sequential\n",
    "from keras.src.layers import Dense, Flatten, Conv2D, MaxPooling2D, Dropout\n",
    "from keras.src.callbacks import EarlyStopping\n",
    "import pandas as pd\n",
    "import numpy as np\n",
    "import os\n",
    "from sklearn.model_selection import train_test_split\n",
    "from keras.src.utils import to_categorical\n",
    "from PIL import Image\n",
    "import matplotlib.pyplot as plt\n",
    "from keras.src.utils import image_dataset_from_directory\n",
    "import json"
   ]
  },
  {
   "cell_type": "code",
   "execution_count": 2,
   "metadata": {},
   "outputs": [],
   "source": [
    "# Percorsi ai dataset\n",
    "train_images_path = 'data/images_training_rev1/images_training_rev1' #le immagini di training\n",
    "test_images_path = 'data/images_test_rev1/images_test_rev1' #le immagini test\n",
    "train_labels_path = 'solutions/training_solutions_rev1/training_solutions_rev1.csv' #le etichette csv del training"
   ]
  },
  {
   "cell_type": "code",
   "execution_count": 3,
   "metadata": {},
   "outputs": [],
   "source": [
    "# Percorsi ai dataset sul portatile\n",
    "train_images_path = 'C:/Users/AndreaBianchini/Downloads/galaxy-zoo-the-galaxy-challenge/images_training_rev1/images_training_rev1'\n",
    "test_images_path = 'C:/Users/AndreaBianchini/Downloads/galaxy-zoo-the-galaxy-challenge/images_test_rev1/images_test_rev1'\n",
    "train_labels_path = 'C:/Users/AndreaBianchini/Downloads/galaxy-zoo-the-galaxy-challenge/training_solutions_rev1/training_solutions_rev1.csv' "
   ]
  },
  {
   "cell_type": "code",
   "execution_count": 4,
   "metadata": {},
   "outputs": [],
   "source": [
    "# Caricamento delle etichette\n",
    "train_labels_df = pd.read_csv(train_labels_path)"
   ]
  },
  {
   "cell_type": "code",
   "execution_count": 5,
   "metadata": {},
   "outputs": [],
   "source": [
    "# Funzione per creare il dataset tf.data\n",
    "def load_image(img_path, label):\n",
    "    img = tf.io.read_file(img_path)\n",
    "    img = tf.image.decode_jpeg(img, channels=3)\n",
    "    img = tf.image.resize(img, [64, 64])\n",
    "    img = img / 255.0  # Normalizzazione\n",
    "    return img, label"
   ]
  },
  {
   "cell_type": "code",
   "execution_count": 6,
   "metadata": {},
   "outputs": [],
   "source": [
    "def create_dataset(image_paths, labels):\n",
    "    dataset = Dataset.from_tensor_slices((image_paths, labels))\n",
    "    dataset = dataset.map(load_image, num_parallel_calls=tf.data.AUTOTUNE)\n",
    "    dataset = dataset.shuffle(buffer_size=1000).batch(64).prefetch(buffer_size=tf.data.AUTOTUNE)\n",
    "    return dataset"
   ]
  },
  {
   "cell_type": "code",
   "execution_count": 7,
   "metadata": {},
   "outputs": [],
   "source": [
    "# Creazione del DataFrame con i percorsi delle immagini e le etichette\n",
    "image_paths = [os.path.join(train_images_path, f\"{int(img_id)}.jpg\") for img_id in train_labels_df['GalaxyID']]\n",
    "labels = train_labels_df.iloc[:, 1:].values"
   ]
  },
  {
   "cell_type": "code",
   "execution_count": 8,
   "metadata": {},
   "outputs": [],
   "source": [
    "# Split del dataset in training e validation\n",
    "image_paths_train, image_paths_val, labels_train, labels_val = train_test_split(image_paths, labels, test_size=0.2, random_state=42)"
   ]
  },
  {
   "cell_type": "code",
   "execution_count": 9,
   "metadata": {},
   "outputs": [],
   "source": [
    "# Creazione dei dataset tf.data\n",
    "train_dataset = create_dataset(image_paths_train, labels_train)\n",
    "val_dataset = create_dataset(image_paths_val, labels_val)"
   ]
  },
  {
   "cell_type": "code",
   "execution_count": 10,
   "metadata": {},
   "outputs": [
    {
     "name": "stderr",
     "output_type": "stream",
     "text": [
      "c:\\Users\\AndreaBianchini\\anaconda3\\envs\\UFS12DL\\Lib\\site-packages\\keras\\src\\layers\\convolutional\\base_conv.py:107: UserWarning: Do not pass an `input_shape`/`input_dim` argument to a layer. When using Sequential models, prefer using an `Input(shape)` object as the first layer in the model instead.\n",
      "  super().__init__(activity_regularizer=activity_regularizer, **kwargs)\n"
     ]
    },
    {
     "data": {
      "text/html": [
       "<pre style=\"white-space:pre;overflow-x:auto;line-height:normal;font-family:Menlo,'DejaVu Sans Mono',consolas,'Courier New',monospace\"><span style=\"font-weight: bold\">Model: \"sequential\"</span>\n",
       "</pre>\n"
      ],
      "text/plain": [
       "\u001b[1mModel: \"sequential\"\u001b[0m\n"
      ]
     },
     "metadata": {},
     "output_type": "display_data"
    },
    {
     "data": {
      "text/html": [
       "<pre style=\"white-space:pre;overflow-x:auto;line-height:normal;font-family:Menlo,'DejaVu Sans Mono',consolas,'Courier New',monospace\">┏━━━━━━━━━━━━━━━━━━━━━━━━━━━━━━━━━┳━━━━━━━━━━━━━━━━━━━━━━━━┳━━━━━━━━━━━━━━━┓\n",
       "┃<span style=\"font-weight: bold\"> Layer (type)                    </span>┃<span style=\"font-weight: bold\"> Output Shape           </span>┃<span style=\"font-weight: bold\">       Param # </span>┃\n",
       "┡━━━━━━━━━━━━━━━━━━━━━━━━━━━━━━━━━╇━━━━━━━━━━━━━━━━━━━━━━━━╇━━━━━━━━━━━━━━━┩\n",
       "│ conv2d (<span style=\"color: #0087ff; text-decoration-color: #0087ff\">Conv2D</span>)                 │ (<span style=\"color: #00d7ff; text-decoration-color: #00d7ff\">None</span>, <span style=\"color: #00af00; text-decoration-color: #00af00\">62</span>, <span style=\"color: #00af00; text-decoration-color: #00af00\">62</span>, <span style=\"color: #00af00; text-decoration-color: #00af00\">32</span>)     │           <span style=\"color: #00af00; text-decoration-color: #00af00\">896</span> │\n",
       "├─────────────────────────────────┼────────────────────────┼───────────────┤\n",
       "│ max_pooling2d (<span style=\"color: #0087ff; text-decoration-color: #0087ff\">MaxPooling2D</span>)    │ (<span style=\"color: #00d7ff; text-decoration-color: #00d7ff\">None</span>, <span style=\"color: #00af00; text-decoration-color: #00af00\">31</span>, <span style=\"color: #00af00; text-decoration-color: #00af00\">31</span>, <span style=\"color: #00af00; text-decoration-color: #00af00\">32</span>)     │             <span style=\"color: #00af00; text-decoration-color: #00af00\">0</span> │\n",
       "├─────────────────────────────────┼────────────────────────┼───────────────┤\n",
       "│ conv2d_1 (<span style=\"color: #0087ff; text-decoration-color: #0087ff\">Conv2D</span>)               │ (<span style=\"color: #00d7ff; text-decoration-color: #00d7ff\">None</span>, <span style=\"color: #00af00; text-decoration-color: #00af00\">29</span>, <span style=\"color: #00af00; text-decoration-color: #00af00\">29</span>, <span style=\"color: #00af00; text-decoration-color: #00af00\">64</span>)     │        <span style=\"color: #00af00; text-decoration-color: #00af00\">18,496</span> │\n",
       "├─────────────────────────────────┼────────────────────────┼───────────────┤\n",
       "│ max_pooling2d_1 (<span style=\"color: #0087ff; text-decoration-color: #0087ff\">MaxPooling2D</span>)  │ (<span style=\"color: #00d7ff; text-decoration-color: #00d7ff\">None</span>, <span style=\"color: #00af00; text-decoration-color: #00af00\">14</span>, <span style=\"color: #00af00; text-decoration-color: #00af00\">14</span>, <span style=\"color: #00af00; text-decoration-color: #00af00\">64</span>)     │             <span style=\"color: #00af00; text-decoration-color: #00af00\">0</span> │\n",
       "├─────────────────────────────────┼────────────────────────┼───────────────┤\n",
       "│ flatten (<span style=\"color: #0087ff; text-decoration-color: #0087ff\">Flatten</span>)               │ (<span style=\"color: #00d7ff; text-decoration-color: #00d7ff\">None</span>, <span style=\"color: #00af00; text-decoration-color: #00af00\">12544</span>)          │             <span style=\"color: #00af00; text-decoration-color: #00af00\">0</span> │\n",
       "├─────────────────────────────────┼────────────────────────┼───────────────┤\n",
       "│ dropout (<span style=\"color: #0087ff; text-decoration-color: #0087ff\">Dropout</span>)               │ (<span style=\"color: #00d7ff; text-decoration-color: #00d7ff\">None</span>, <span style=\"color: #00af00; text-decoration-color: #00af00\">12544</span>)          │             <span style=\"color: #00af00; text-decoration-color: #00af00\">0</span> │\n",
       "├─────────────────────────────────┼────────────────────────┼───────────────┤\n",
       "│ dense (<span style=\"color: #0087ff; text-decoration-color: #0087ff\">Dense</span>)                   │ (<span style=\"color: #00d7ff; text-decoration-color: #00d7ff\">None</span>, <span style=\"color: #00af00; text-decoration-color: #00af00\">128</span>)            │     <span style=\"color: #00af00; text-decoration-color: #00af00\">1,605,760</span> │\n",
       "├─────────────────────────────────┼────────────────────────┼───────────────┤\n",
       "│ dense_1 (<span style=\"color: #0087ff; text-decoration-color: #0087ff\">Dense</span>)                 │ (<span style=\"color: #00d7ff; text-decoration-color: #00d7ff\">None</span>, <span style=\"color: #00af00; text-decoration-color: #00af00\">37</span>)             │         <span style=\"color: #00af00; text-decoration-color: #00af00\">4,773</span> │\n",
       "└─────────────────────────────────┴────────────────────────┴───────────────┘\n",
       "</pre>\n"
      ],
      "text/plain": [
       "┏━━━━━━━━━━━━━━━━━━━━━━━━━━━━━━━━━┳━━━━━━━━━━━━━━━━━━━━━━━━┳━━━━━━━━━━━━━━━┓\n",
       "┃\u001b[1m \u001b[0m\u001b[1mLayer (type)                   \u001b[0m\u001b[1m \u001b[0m┃\u001b[1m \u001b[0m\u001b[1mOutput Shape          \u001b[0m\u001b[1m \u001b[0m┃\u001b[1m \u001b[0m\u001b[1m      Param #\u001b[0m\u001b[1m \u001b[0m┃\n",
       "┡━━━━━━━━━━━━━━━━━━━━━━━━━━━━━━━━━╇━━━━━━━━━━━━━━━━━━━━━━━━╇━━━━━━━━━━━━━━━┩\n",
       "│ conv2d (\u001b[38;5;33mConv2D\u001b[0m)                 │ (\u001b[38;5;45mNone\u001b[0m, \u001b[38;5;34m62\u001b[0m, \u001b[38;5;34m62\u001b[0m, \u001b[38;5;34m32\u001b[0m)     │           \u001b[38;5;34m896\u001b[0m │\n",
       "├─────────────────────────────────┼────────────────────────┼───────────────┤\n",
       "│ max_pooling2d (\u001b[38;5;33mMaxPooling2D\u001b[0m)    │ (\u001b[38;5;45mNone\u001b[0m, \u001b[38;5;34m31\u001b[0m, \u001b[38;5;34m31\u001b[0m, \u001b[38;5;34m32\u001b[0m)     │             \u001b[38;5;34m0\u001b[0m │\n",
       "├─────────────────────────────────┼────────────────────────┼───────────────┤\n",
       "│ conv2d_1 (\u001b[38;5;33mConv2D\u001b[0m)               │ (\u001b[38;5;45mNone\u001b[0m, \u001b[38;5;34m29\u001b[0m, \u001b[38;5;34m29\u001b[0m, \u001b[38;5;34m64\u001b[0m)     │        \u001b[38;5;34m18,496\u001b[0m │\n",
       "├─────────────────────────────────┼────────────────────────┼───────────────┤\n",
       "│ max_pooling2d_1 (\u001b[38;5;33mMaxPooling2D\u001b[0m)  │ (\u001b[38;5;45mNone\u001b[0m, \u001b[38;5;34m14\u001b[0m, \u001b[38;5;34m14\u001b[0m, \u001b[38;5;34m64\u001b[0m)     │             \u001b[38;5;34m0\u001b[0m │\n",
       "├─────────────────────────────────┼────────────────────────┼───────────────┤\n",
       "│ flatten (\u001b[38;5;33mFlatten\u001b[0m)               │ (\u001b[38;5;45mNone\u001b[0m, \u001b[38;5;34m12544\u001b[0m)          │             \u001b[38;5;34m0\u001b[0m │\n",
       "├─────────────────────────────────┼────────────────────────┼───────────────┤\n",
       "│ dropout (\u001b[38;5;33mDropout\u001b[0m)               │ (\u001b[38;5;45mNone\u001b[0m, \u001b[38;5;34m12544\u001b[0m)          │             \u001b[38;5;34m0\u001b[0m │\n",
       "├─────────────────────────────────┼────────────────────────┼───────────────┤\n",
       "│ dense (\u001b[38;5;33mDense\u001b[0m)                   │ (\u001b[38;5;45mNone\u001b[0m, \u001b[38;5;34m128\u001b[0m)            │     \u001b[38;5;34m1,605,760\u001b[0m │\n",
       "├─────────────────────────────────┼────────────────────────┼───────────────┤\n",
       "│ dense_1 (\u001b[38;5;33mDense\u001b[0m)                 │ (\u001b[38;5;45mNone\u001b[0m, \u001b[38;5;34m37\u001b[0m)             │         \u001b[38;5;34m4,773\u001b[0m │\n",
       "└─────────────────────────────────┴────────────────────────┴───────────────┘\n"
      ]
     },
     "metadata": {},
     "output_type": "display_data"
    },
    {
     "data": {
      "text/html": [
       "<pre style=\"white-space:pre;overflow-x:auto;line-height:normal;font-family:Menlo,'DejaVu Sans Mono',consolas,'Courier New',monospace\"><span style=\"font-weight: bold\"> Total params: </span><span style=\"color: #00af00; text-decoration-color: #00af00\">1,629,925</span> (6.22 MB)\n",
       "</pre>\n"
      ],
      "text/plain": [
       "\u001b[1m Total params: \u001b[0m\u001b[38;5;34m1,629,925\u001b[0m (6.22 MB)\n"
      ]
     },
     "metadata": {},
     "output_type": "display_data"
    },
    {
     "data": {
      "text/html": [
       "<pre style=\"white-space:pre;overflow-x:auto;line-height:normal;font-family:Menlo,'DejaVu Sans Mono',consolas,'Courier New',monospace\"><span style=\"font-weight: bold\"> Trainable params: </span><span style=\"color: #00af00; text-decoration-color: #00af00\">1,629,925</span> (6.22 MB)\n",
       "</pre>\n"
      ],
      "text/plain": [
       "\u001b[1m Trainable params: \u001b[0m\u001b[38;5;34m1,629,925\u001b[0m (6.22 MB)\n"
      ]
     },
     "metadata": {},
     "output_type": "display_data"
    },
    {
     "data": {
      "text/html": [
       "<pre style=\"white-space:pre;overflow-x:auto;line-height:normal;font-family:Menlo,'DejaVu Sans Mono',consolas,'Courier New',monospace\"><span style=\"font-weight: bold\"> Non-trainable params: </span><span style=\"color: #00af00; text-decoration-color: #00af00\">0</span> (0.00 B)\n",
       "</pre>\n"
      ],
      "text/plain": [
       "\u001b[1m Non-trainable params: \u001b[0m\u001b[38;5;34m0\u001b[0m (0.00 B)\n"
      ]
     },
     "metadata": {},
     "output_type": "display_data"
    }
   ],
   "source": [
    "# Creazione del modello della rete neurale\n",
    "model = Sequential([\n",
    "    Conv2D(32, (3, 3), activation='relu', input_shape=(64, 64, 3)),\n",
    "    MaxPooling2D((2, 2)),\n",
    "    Conv2D(64, (3, 3), activation='relu'),\n",
    "    MaxPooling2D((2, 2)),\n",
    "    Flatten(),\n",
    "    Dropout(0.5),\n",
    "    Dense(128, activation='relu'),\n",
    "    Dense(37, activation='sigmoid')  # Utilizziamo sigmoid per una regressione multilabel\n",
    "])\n",
    "\n",
    "model.compile(optimizer='adam',\n",
    "              loss='binary_crossentropy',\n",
    "              metrics=['accuracy'])\n",
    "\n",
    "model.summary()"
   ]
  },
  {
   "cell_type": "code",
   "execution_count": 11,
   "metadata": {},
   "outputs": [],
   "source": [
    "# Callback per l'early stopping\n",
    "early_stopping = EarlyStopping(monitor='val_loss', patience=3, restore_best_weights=True)\n"
   ]
  },
  {
   "cell_type": "code",
   "execution_count": 12,
   "metadata": {},
   "outputs": [
    {
     "name": "stdout",
     "output_type": "stream",
     "text": [
      "Epoch 1/10\n",
      "\u001b[1m770/770\u001b[0m \u001b[32m━━━━━━━━━━━━━━━━━━━━\u001b[0m\u001b[37m\u001b[0m \u001b[1m173s\u001b[0m 218ms/step - accuracy: 0.5685 - loss: 0.3039 - val_accuracy: 0.5758 - val_loss: 0.2665\n",
      "Epoch 2/10\n",
      "\u001b[1m770/770\u001b[0m \u001b[32m━━━━━━━━━━━━━━━━━━━━\u001b[0m\u001b[37m\u001b[0m \u001b[1m165s\u001b[0m 214ms/step - accuracy: 0.6012 - loss: 0.2656 - val_accuracy: 0.6502 - val_loss: 0.2590\n",
      "Epoch 3/10\n",
      "\u001b[1m770/770\u001b[0m \u001b[32m━━━━━━━━━━━━━━━━━━━━\u001b[0m\u001b[37m\u001b[0m \u001b[1m165s\u001b[0m 214ms/step - accuracy: 0.6520 - loss: 0.2597 - val_accuracy: 0.7094 - val_loss: 0.2550\n",
      "Epoch 4/10\n",
      "\u001b[1m770/770\u001b[0m \u001b[32m━━━━━━━━━━━━━━━━━━━━\u001b[0m\u001b[37m\u001b[0m \u001b[1m163s\u001b[0m 211ms/step - accuracy: 0.6825 - loss: 0.2552 - val_accuracy: 0.6946 - val_loss: 0.2523\n",
      "Epoch 5/10\n",
      "\u001b[1m770/770\u001b[0m \u001b[32m━━━━━━━━━━━━━━━━━━━━\u001b[0m\u001b[37m\u001b[0m \u001b[1m166s\u001b[0m 215ms/step - accuracy: 0.7004 - loss: 0.2525 - val_accuracy: 0.7032 - val_loss: 0.2507\n",
      "Epoch 6/10\n",
      "\u001b[1m770/770\u001b[0m \u001b[32m━━━━━━━━━━━━━━━━━━━━\u001b[0m\u001b[37m\u001b[0m \u001b[1m165s\u001b[0m 213ms/step - accuracy: 0.7077 - loss: 0.2506 - val_accuracy: 0.7312 - val_loss: 0.2485\n",
      "Epoch 7/10\n",
      "\u001b[1m770/770\u001b[0m \u001b[32m━━━━━━━━━━━━━━━━━━━━\u001b[0m\u001b[37m\u001b[0m \u001b[1m158s\u001b[0m 204ms/step - accuracy: 0.7150 - loss: 0.2490 - val_accuracy: 0.7371 - val_loss: 0.2488\n",
      "Epoch 8/10\n",
      "\u001b[1m770/770\u001b[0m \u001b[32m━━━━━━━━━━━━━━━━━━━━\u001b[0m\u001b[37m\u001b[0m \u001b[1m128s\u001b[0m 165ms/step - accuracy: 0.7228 - loss: 0.2479 - val_accuracy: 0.7355 - val_loss: 0.2477\n",
      "Epoch 9/10\n",
      "\u001b[1m770/770\u001b[0m \u001b[32m━━━━━━━━━━━━━━━━━━━━\u001b[0m\u001b[37m\u001b[0m \u001b[1m133s\u001b[0m 173ms/step - accuracy: 0.7312 - loss: 0.2463 - val_accuracy: 0.7402 - val_loss: 0.2469\n",
      "Epoch 10/10\n",
      "\u001b[1m770/770\u001b[0m \u001b[32m━━━━━━━━━━━━━━━━━━━━\u001b[0m\u001b[37m\u001b[0m \u001b[1m132s\u001b[0m 171ms/step - accuracy: 0.7345 - loss: 0.2460 - val_accuracy: 0.7320 - val_loss: 0.2466\n"
     ]
    }
   ],
   "source": [
    "# Addestramento del modello\n",
    "history = model.fit(train_dataset, epochs=10, validation_data=val_dataset, callbacks=[early_stopping])"
   ]
  },
  {
   "cell_type": "code",
   "execution_count": 13,
   "metadata": {},
   "outputs": [
    {
     "name": "stdout",
     "output_type": "stream",
     "text": [
      "Modello salvato in 'galaxy_model.keras'\n"
     ]
    }
   ],
   "source": [
    "# Salvataggio del modello\n",
    "model.save('galaxy_model.keras')\n",
    "print(\"Modello salvato in 'galaxy_model.keras'\")\n"
   ]
  },
  {
   "cell_type": "code",
   "execution_count": 15,
   "metadata": {},
   "outputs": [
    {
     "name": "stdout",
     "output_type": "stream",
     "text": [
      "Storico dell'allenamento salvato in 'history.json'\n"
     ]
    }
   ],
   "source": [
    "#ipotetico:\n",
    "\n",
    "'''\n",
    "# Salvataggio dello storico dell'allenamento\n",
    "with open('history.json', 'w') as f:\n",
    "    json.dump(history.history, f)\n",
    "print(\"Storico dell'allenamento salvato in 'history.json'\")\n",
    "\n",
    "# Carica lo storico dell'allenamento\n",
    "with open('history.json', 'r') as f:\n",
    "    history = json.load(f)\n",
    "'''"
   ]
  },
  {
   "cell_type": "code",
   "execution_count": null,
   "metadata": {},
   "outputs": [],
   "source": [
    "#Per caricarlo in futuro:\n",
    "model = tf.keras.models.load_model('galaxy_model.keras')"
   ]
  },
  {
   "cell_type": "code",
   "execution_count": 16,
   "metadata": {},
   "outputs": [
    {
     "ename": "AttributeError",
     "evalue": "'dict' object has no attribute 'history'",
     "output_type": "error",
     "traceback": [
      "\u001b[1;31m---------------------------------------------------------------------------\u001b[0m",
      "\u001b[1;31mAttributeError\u001b[0m                            Traceback (most recent call last)",
      "Cell \u001b[1;32mIn[16], line 4\u001b[0m\n\u001b[0;32m      2\u001b[0m plt\u001b[38;5;241m.\u001b[39mfigure(figsize\u001b[38;5;241m=\u001b[39m(\u001b[38;5;241m12\u001b[39m, \u001b[38;5;241m4\u001b[39m))\n\u001b[0;32m      3\u001b[0m plt\u001b[38;5;241m.\u001b[39msubplot(\u001b[38;5;241m1\u001b[39m, \u001b[38;5;241m2\u001b[39m, \u001b[38;5;241m1\u001b[39m)\n\u001b[1;32m----> 4\u001b[0m plt\u001b[38;5;241m.\u001b[39mplot(\u001b[43mhistory\u001b[49m\u001b[38;5;241;43m.\u001b[39;49m\u001b[43mhistory\u001b[49m[\u001b[38;5;124m'\u001b[39m\u001b[38;5;124maccuracy\u001b[39m\u001b[38;5;124m'\u001b[39m])\n\u001b[0;32m      5\u001b[0m plt\u001b[38;5;241m.\u001b[39mplot(history\u001b[38;5;241m.\u001b[39mhistory[\u001b[38;5;124m'\u001b[39m\u001b[38;5;124mval_accuracy\u001b[39m\u001b[38;5;124m'\u001b[39m])\n\u001b[0;32m      6\u001b[0m plt\u001b[38;5;241m.\u001b[39mtitle(\u001b[38;5;124m'\u001b[39m\u001b[38;5;124mModel accuracy\u001b[39m\u001b[38;5;124m'\u001b[39m)\n",
      "\u001b[1;31mAttributeError\u001b[0m: 'dict' object has no attribute 'history'"
     ]
    },
    {
     "data": {
      "image/png": "[encoded data removed]",
      "text/plain": [
       "<Figure size 1200x400 with 1 Axes>"
      ]
     },
     "metadata": {},
     "output_type": "display_data"
    }
   ],
   "source": [
    "# Plotting training & validation accuracy values\n",
    "plt.figure(figsize=(12, 4))\n",
    "plt.subplot(1, 2, 1)\n",
    "plt.plot(history.history['accuracy'])\n",
    "plt.plot(history.history['val_accuracy'])\n",
    "plt.title('Model accuracy')\n",
    "plt.ylabel('Accuracy')\n",
    "plt.xlabel('Epoch')\n",
    "plt.legend(['Train', 'Validation'], loc='upper left')"
   ]
  },
  {
   "cell_type": "code",
   "execution_count": 17,
   "metadata": {},
   "outputs": [
    {
     "ename": "AttributeError",
     "evalue": "'dict' object has no attribute 'history'",
     "output_type": "error",
     "traceback": [
      "\u001b[1;31m---------------------------------------------------------------------------\u001b[0m",
      "\u001b[1;31mAttributeError\u001b[0m                            Traceback (most recent call last)",
      "Cell \u001b[1;32mIn[17], line 3\u001b[0m\n\u001b[0;32m      1\u001b[0m \u001b[38;5;66;03m# Plotting training & validation loss values\u001b[39;00m\n\u001b[0;32m      2\u001b[0m plt\u001b[38;5;241m.\u001b[39msubplot(\u001b[38;5;241m1\u001b[39m, \u001b[38;5;241m2\u001b[39m, \u001b[38;5;241m2\u001b[39m)\n\u001b[1;32m----> 3\u001b[0m plt\u001b[38;5;241m.\u001b[39mplot(\u001b[43mhistory\u001b[49m\u001b[38;5;241;43m.\u001b[39;49m\u001b[43mhistory\u001b[49m[\u001b[38;5;124m'\u001b[39m\u001b[38;5;124mloss\u001b[39m\u001b[38;5;124m'\u001b[39m])\n\u001b[0;32m      4\u001b[0m plt\u001b[38;5;241m.\u001b[39mplot(history\u001b[38;5;241m.\u001b[39mhistory[\u001b[38;5;124m'\u001b[39m\u001b[38;5;124mval_loss\u001b[39m\u001b[38;5;124m'\u001b[39m])\n\u001b[0;32m      5\u001b[0m plt\u001b[38;5;241m.\u001b[39mtitle(\u001b[38;5;124m'\u001b[39m\u001b[38;5;124mModel loss\u001b[39m\u001b[38;5;124m'\u001b[39m)\n",
      "\u001b[1;31mAttributeError\u001b[0m: 'dict' object has no attribute 'history'"
     ]
    },
    {
     "data": {
      "image/png": "[encoded data removed]",
      "text/plain": [
       "<Figure size 640x480 with 1 Axes>"
      ]
     },
     "metadata": {},
     "output_type": "display_data"
    }
   ],
   "source": [
    "# Plotting training & validation loss values\n",
    "plt.subplot(1, 2, 2)\n",
    "plt.plot(history.history['loss'])\n",
    "plt.plot(history.history['val_loss'])\n",
    "plt.title('Model loss')\n",
    "plt.ylabel('Loss')\n",
    "plt.xlabel('Epoch')\n",
    "plt.legend(['Train', 'Validation'], loc='upper left')\n",
    "plt.show()"
   ]
  },
  {
   "cell_type": "markdown",
   "metadata": {},
   "source": [
    "# Creo una rete neurale convoluzionale (CNN) usando il modello 'Sequential' di Keras.\n",
    "## La rete è composta da:\n",
    "- Conv2D(32, (3, 3), activation='relu', input_shape=(256, 256, 3)): un livello convoluzionale con 32 filtri, kernel di dimensione 3x3, funzione di attivazione ReLU e input shape di 256x256x3 (dimensioni dell'immagine con 3 canali colore).\n",
    "\n",
    "- MaxPooling2D((2, 2)): un livello di max pooling con finestra di 2x2 per ridurre le dimensioni spaziali.\n",
    "\n",
    "- Conv2D(64, (3, 3), activation='relu'): un secondo livello convoluzionale con 64 filtri.\n",
    "\n",
    "- MaxPooling2D((2, 2)): un altro livello di max pooling.\n",
    "\n",
    "- Flatten(): appiattisce l'output 3D a 1D per l'ingresso nei livelli densi.\n",
    "\n",
    "- Dropout(0.5): applica il dropout con un tasso del 50% per prevenire l'overfitting.\n",
    "\n",
    "- Dense(128, activation='relu'): un livello denso completamente connesso con 128 neuroni e funzione di attivazione ReLU.\n",
    "\n",
    "- Dense(37, activation='sigmoid'): un livello denso con 37 neuroni e funzione di attivazione sigmoide, utilizzato per la classificazione multilabel."
   ]
  },
  {
   "cell_type": "code",
   "execution_count": null,
   "metadata": {},
   "outputs": [],
   "source": [
    "# Creazione del modello della rete neurale\n",
    "model = Sequential([\n",
    "    Conv2D(32, (3, 3), activation='relu', input_shape=(128, 128, 3)),\n",
    "    MaxPooling2D((2, 2)),\n",
    "    Conv2D(64, (3, 3), activation='relu'),\n",
    "    MaxPooling2D((2, 2)),\n",
    "    Flatten(),\n",
    "    Dropout(0.5),\n",
    "    Dense(128, activation='relu'),\n",
    "    Dense(37, activation='sigmoid')  # Utilizziamo sigmoid per una regressione multilabel\n",
    "])\n",
    "\n",
    "\n",
    "#Compila il modello usando l'ottimizzatore Adam, la loss binary_crossentropy e la metrica accuracy.\n",
    "model.compile(optimizer='adam',\n",
    "              loss='binary_crossentropy',\n",
    "              metrics=['accuracy'])"
   ]
  },
  {
   "cell_type": "code",
   "execution_count": null,
   "metadata": {},
   "outputs": [],
   "source": [
    "# Divisione dei dati in training(80%) e validation set(20%)\n",
    "X_train, X_val, y_train, y_val = train_test_split(train_images, train_labels, test_size=0.2, random_state=42)"
   ]
  },
  {
   "cell_type": "code",
   "execution_count": null,
   "metadata": {},
   "outputs": [],
   "source": [
    "print(\"imploso?\")\n",
    "# Addestramento del modello:\n",
    "#Addestra il modello sui dati di addestramento per 10 epoche con un batch size di 64, usando il set di validazione per monitorare le prestazioni.\n",
    "model.fit(X_train, y_train, epochs=10, batch_size=32, validation_data=(X_val, y_val))"
   ]
  },
  {
   "cell_type": "code",
   "execution_count": null,
   "metadata": {},
   "outputs": [],
   "source": [
    "# Caricamento delle immagini di test\n",
    "test_images, test_image_ids = load_images_from_folder(test_images_path, image_size=(128, 128))"
   ]
  },
  {
   "cell_type": "code",
   "execution_count": null,
   "metadata": {},
   "outputs": [],
   "source": [
    "# Predizione delle etichette per il test set\n",
    "predictions = model.predict(test_images)\n"
   ]
  },
  {
   "cell_type": "code",
   "execution_count": null,
   "metadata": {},
   "outputs": [],
   "source": [
    "# Creazione del DataFrame con le predizioni:\n",
    "#Crea un DataFrame con le predizioni e aggiunge la colonna GalaxyID con gli ID delle immagini di test.\n",
    "predictions_df = pd.DataFrame(predictions, columns=['Class' + str(i) for i in range(predictions.shape[1])])\n",
    "predictions_df.insert(0, 'GalaxyID', test_image_ids)\n"
   ]
  },
  {
   "cell_type": "code",
   "execution_count": null,
   "metadata": {},
   "outputs": [],
   "source": [
    "# Salvataggio delle predizioni in un file CSV\n",
    "predictions_df.to_csv('galaxies_predictions_new.csv', index=False)"
   ]
  },
  {
   "cell_type": "code",
   "execution_count": null,
   "metadata": {},
   "outputs": [],
   "source": [
    "# Mappatura delle classi alle loro descrizioni\n",
    "class_descriptions = {\n",
    "    0: \"La galassia appare liscia, senza particolari caratteristiche.\",\n",
    "    1: \"La galassia ha caratteristiche visibili o un disco.\",\n",
    "    2: \"La galassia è identificata come stella o artefatto.\",\n",
    "    3: \"La galassia è vista di taglio.\",\n",
    "    4: \"La galassia non è vista di taglio.\",\n",
    "    5: \"La galassia ha una barra visibile.\",\n",
    "    6: \"La galassia non ha una barra visibile.\",\n",
    "    7: \"La galassia ha una struttura a spirale.\",\n",
    "    8: \"La galassia non ha una struttura a spirale.\",\n",
    "    9: \"La galassia ha una forma rotonda.\",\n",
    "    10: \"La galassia ha una forma squadrata.\",\n",
    "    11: \"La galassia non ha un rigonfiamento centrale.\",\n",
    "    12: \"La galassia ha un disco visibile di taglio.\",\n",
    "    13: \"La galassia non ha un disco visibile di taglio.\",\n",
    "    14: \"La galassia ha un rigonfiamento centrale arrotondato.\",\n",
    "    15: \"La galassia ha un rigonfiamento centrale squadrato.\",\n",
    "    16: \"La galassia non ha un rigonfiamento centrale.\",\n",
    "    17: \"La galassia ha un braccio a spirale.\",\n",
    "    18: \"La galassia ha due bracci a spirale.\",\n",
    "    19: \"La galassia ha tre bracci a spirale.\",\n",
    "    20: \"La galassia ha quattro bracci a spirale.\",\n",
    "    21: \"La galassia ha cinque bracci a spirale.\",\n",
    "    22: \"La galassia ha sei bracci a spirale.\",\n",
    "    23: \"La galassia ha sette bracci a spirale.\",\n",
    "    24: \"La galassia ha otto bracci a spirale.\",\n",
    "    25: \"La galassia ha nove bracci a spirale.\",\n",
    "    26: \"La galassia ha dieci bracci a spirale.\",\n",
    "    27: \"La galassia ha un rigonfiamento centrale arrotondato.\",\n",
    "    28: \"La galassia ha un rigonfiamento centrale squadrato.\",\n",
    "    29: \"La galassia non ha un rigonfiamento centrale.\",\n",
    "    30: \"La galassia ha una struttura ad anello.\",\n",
    "    31: \"La galassia non ha una struttura ad anello.\",\n",
    "    32: \"La galassia ha una struttura a lente o arco.\",\n",
    "    33: \"La galassia non ha una struttura a lente o arco.\",\n",
    "    34: \"La galassia è risultata da una fusione.\",\n",
    "    35: \"La galassia non è risultata da una fusione.\",\n",
    "    36: \"La galassia è sovrapposta con altre galassie o stelle.\"\n",
    "}\n"
   ]
  },
  {
   "cell_type": "code",
   "execution_count": null,
   "metadata": {},
   "outputs": [],
   "source": [
    "# Visualizzazione delle immagini di test con le classificazioni\n",
    "def display_predictions(images, image_ids, predictions_df, num_images=10):\n",
    "    plt.figure(figsize=(20, 10))\n",
    "    for i in range(min(num_images, len(images))):\n",
    "        ax = plt.subplot(2, 5, i + 1)\n",
    "        plt.imshow(images[i])\n",
    "        plt.title(f\"GalaxyID: {image_ids[i]}\")\n",
    "    \n",
    "        \n",
    "        # Trova la classificazione con la probabilità più alta\n",
    "        galaxy_id = image_ids[i]\n",
    "        prediction_row = predictions_df[predictions_df['GalaxyID'] == galaxy_id]\n",
    "        prediction_row = prediction_row.drop(columns=['GalaxyID']).values[0]\n",
    "        top_class = np.argmax(prediction_row)\n",
    "        top_class_prob = prediction_row[top_class]\n",
    "        \n",
    "        description = class_descriptions[top_class]\n",
    "        \n",
    "        plt.xlabel(f\"Class: {top_class}, Prob: {top_class_prob:.2f}\")\n",
    "        plt.ylabel(description)\n",
    "        plt.axis(\"off\")\n",
    "\n",
    "    plt.show()"
   ]
  },
  {
   "cell_type": "code",
   "execution_count": null,
   "metadata": {},
   "outputs": [],
   "source": [
    "# Visualizzazione delle immagini di test con le predizioni\n",
    "display_predictions(test_images, test_image_ids, predictions_df, num_images=10)"
   ]
  },
  {
   "cell_type": "code",
   "execution_count": null,
   "metadata": {},
   "outputs": [],
   "source": [
    "# Creazione del file di testo con le descrizioni\n",
    "with open('galaxies_descriptions.txt', 'w') as file:\n",
    "    for i in range(len(test_images)):\n",
    "        galaxy_id = test_image_ids[i]\n",
    "        prediction_row = predictions_df[predictions_df['GalaxyID'] == galaxy_id]\n",
    "        prediction_row = prediction_row.drop(columns=['GalaxyID']).values[0]\n",
    "        top_class = np.argmax(prediction_row)\n",
    "        top_class_prob = prediction_row[top_class]\n",
    "        description = class_descriptions[top_class]\n",
    "        file.write(f\"GalaxyID: {galaxy_id}, Class: {top_class}, Prob: {top_class_prob:.2f}, Description: {description}\\n\")\n",
    "\n",
    "print(\"File 'galaxies_descriptions.txt' creato con successo.\")"
   ]
  }
 ],
 "metadata": {
  "kernelspec": {
   "display_name": "Python 3",
   "language": "python",
   "name": "python3"
  },
  "language_info": {
   "codemirror_mode": {
    "name": "ipython",
    "version": 3
   },
   "file_extension": ".py",
   "mimetype": "text/x-python",
   "name": "python",
   "nbconvert_exporter": "python",
   "pygments_lexer": "ipython3",
   "version": "3.12.2"
  }
 },
 "nbformat": 4,
 "nbformat_minor": 2
}
