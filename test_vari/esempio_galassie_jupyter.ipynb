{
 "cells": [
  {
   "cell_type": "code",
   "execution_count": null,
   "metadata": {},
   "outputs": [],
   "source": [
    "#Importa le librerie necessarie per il progetto, come :\n",
    "# -TensorFlow e Keras per costruire e addestrare il modello, \n",
    "# -pandas per manipolare i dati, \n",
    "# -numpy per operazioni numeriche, \n",
    "# -sklearn per dividere i dati in training e validation, \n",
    "# -PIL per manipolare le immagini e \n",
    "# -matplotlib per la visualizzazione.\n",
    "import tensorflow as tf\n",
    "from keras._tf_keras.keras.preprocessing.image import ImageDataGenerator\n",
    "from keras.src.models import Sequential\n",
    "from keras.src.layers import Dense, Flatten, Conv2D, MaxPooling2D, Dropout\n",
    "from keras.src.callbacks import history\n",
    "import pandas as pd\n",
    "import numpy as np\n",
    "import os\n",
    "from sklearn.model_selection import train_test_split\n",
    "from keras.src.utils import to_categorical\n",
    "from PIL import Image\n",
    "import matplotlib.pyplot as plt"
   ]
  },
  {
   "cell_type": "code",
   "execution_count": null,
   "metadata": {},
   "outputs": [],
   "source": [
    "# Percorsi ai dataset\n",
    "train_images_path = 'data/images_training_rev1/images_training_rev1' #le immagini di training\n",
    "test_images_path = 'data/images_test_rev1/images_test_rev1' #le immagini test\n",
    "train_labels_path = 'solutions/training_solutions_rev1/training_solutions_rev1.csv' #le etichette csv del training"
   ]
  },
  {
   "cell_type": "code",
   "execution_count": null,
   "metadata": {},
   "outputs": [],
   "source": [
    "#funzione che:\n",
    "# Carica le immagini da una cartella, \n",
    "# le ridimensiona, \n",
    "# le normalizza (dividendo i valori dei pixel per 255.0) e raccoglie i loro ID. \n",
    "# Restituisce le immagini e i loro ID come array numpy.\n",
    "\n",
    "def load_images_from_folder(folder, image_size, limit=None):\n",
    "    images = [] #per memorizzare le immagini caricate\n",
    "    image_ids = [] #per memorizzare gli id delle immagini\n",
    "    for filename in os.listdir(folder)[:limit]: #itera sui file nella cartella fino al limite specificato\n",
    "        img = Image.open(os.path.join(folder, filename)) #apre ogni immagine usando PIL\n",
    "        if img is not None:\n",
    "            img = img.resize(image_size) #la ridimensiona in base alla image_size\n",
    "            img = np.array(img) / 255.0 #converte immagine in array numpy e normalizza i valori dei pixel dividendo per 255.0\n",
    "            images.append(img) #aggiunge l'immagine rimensionata e normalizzata alla lista\n",
    "            image_id = int(filename.split('.')[0])\n",
    "            image_ids.append(image_id)  #aggiunge l'id dell'immagine nella lista\n",
    "    return np.array(images), np.array(image_ids) #restituisce le lista di immagini e id convertite in array numpy"
   ]
  },
  {
   "cell_type": "code",
   "execution_count": null,
   "metadata": {},
   "outputs": [],
   "source": [
    "# Caricamento delle immagini di addestramento\n",
    "train_images, train_image_ids = load_images_from_folder(train_images_path, image_size=(128, 128)) #image_size e limit cambiabili"
   ]
  },
  {
   "cell_type": "code",
   "execution_count": null,
   "metadata": {},
   "outputs": [],
   "source": [
    "print(train_image_ids)"
   ]
  },
  {
   "cell_type": "code",
   "execution_count": null,
   "metadata": {},
   "outputs": [],
   "source": [
    "# Caricamento delle etichette di addestramento:\n",
    "#Legge il file CSV delle etichette di addestramento e le associa agli ID delle immagini di addestramento. \n",
    "# Le etichette sono memorizzate in un array numpy.\n",
    "\n",
    "train_labels_df = pd.read_csv(train_labels_path)\n",
    "train_labels = []\n",
    "for image_id in train_image_ids:\n",
    "    print(image_id)\n",
    "    train_labels.append(train_labels_df[train_labels_df['GalaxyID'] == image_id].iloc[:, 1:].values[0])\n",
    "\n",
    "train_labels = np.array(train_labels)"
   ]
  },
  {
   "cell_type": "markdown",
   "metadata": {},
   "source": [
    "# Creo una rete neurale convoluzionale (CNN) usando il modello 'Sequential' di Keras.\n",
    "## La rete è composta da:\n",
    "- Conv2D(32, (3, 3), activation='relu', input_shape=(256, 256, 3)): un livello convoluzionale con 32 filtri, kernel di dimensione 3x3, funzione di attivazione ReLU e input shape di 256x256x3 (dimensioni dell'immagine con 3 canali colore).\n",
    "\n",
    "- MaxPooling2D((2, 2)): un livello di max pooling con finestra di 2x2 per ridurre le dimensioni spaziali.\n",
    "\n",
    "- Conv2D(64, (3, 3), activation='relu'): un secondo livello convoluzionale con 64 filtri.\n",
    "\n",
    "- MaxPooling2D((2, 2)): un altro livello di max pooling.\n",
    "\n",
    "- Flatten(): appiattisce l'output 3D a 1D per l'ingresso nei livelli densi.\n",
    "\n",
    "- Dropout(0.5): applica il dropout con un tasso del 50% per prevenire l'overfitting.\n",
    "\n",
    "- Dense(128, activation='relu'): un livello denso completamente connesso con 128 neuroni e funzione di attivazione ReLU.\n",
    "\n",
    "- Dense(37, activation='sigmoid'): un livello denso con 37 neuroni e funzione di attivazione sigmoide, utilizzato per la classificazione multilabel."
   ]
  },
  {
   "cell_type": "code",
   "execution_count": null,
   "metadata": {},
   "outputs": [],
   "source": [
    "# Creazione del modello della rete neurale\n",
    "model = Sequential([\n",
    "    Conv2D(32, (3, 3), activation='relu', input_shape=(128, 128, 3)),\n",
    "    MaxPooling2D((2, 2)),\n",
    "    Conv2D(64, (3, 3), activation='relu'),\n",
    "    MaxPooling2D((2, 2)),\n",
    "    Flatten(),\n",
    "    Dropout(0.5),\n",
    "    Dense(128, activation='relu'),\n",
    "    Dense(37, activation='sigmoid')  # Utilizziamo sigmoid per una regressione multilabel\n",
    "])\n",
    "\n",
    "\n",
    "#Compila il modello usando l'ottimizzatore Adam, la loss binary_crossentropy e la metrica accuracy.\n",
    "model.compile(optimizer='adam',\n",
    "              loss='binary_crossentropy',\n",
    "              metrics=['accuracy'])"
   ]
  },
  {
   "cell_type": "code",
   "execution_count": null,
   "metadata": {},
   "outputs": [],
   "source": [
    "# Divisione dei dati in training(80%) e validation set(20%)\n",
    "X_train, X_val, y_train, y_val = train_test_split(train_images, train_labels, test_size=0.2, random_state=42)"
   ]
  },
  {
   "cell_type": "code",
   "execution_count": null,
   "metadata": {},
   "outputs": [],
   "source": [
    "print(\"imploso?\")\n",
    "# Addestramento del modello:\n",
    "#Addestra il modello sui dati di addestramento per 10 epoche con un batch size di 64, usando il set di validazione per monitorare le prestazioni.\n",
    "model.fit(X_train, y_train, epochs=10, batch_size=32, validation_data=(X_val, y_val))"
   ]
  },
  {
   "cell_type": "code",
   "execution_count": null,
   "metadata": {},
   "outputs": [],
   "source": [
    "# Caricamento delle immagini di test\n",
    "test_images, test_image_ids = load_images_from_folder(test_images_path, image_size=(128, 128))"
   ]
  },
  {
   "cell_type": "code",
   "execution_count": null,
   "metadata": {},
   "outputs": [],
   "source": [
    "# Predizione delle etichette per il test set\n",
    "predictions = model.predict(test_images)\n"
   ]
  },
  {
   "cell_type": "code",
   "execution_count": null,
   "metadata": {},
   "outputs": [],
   "source": [
    "# Creazione del DataFrame con le predizioni:\n",
    "#Crea un DataFrame con le predizioni e aggiunge la colonna GalaxyID con gli ID delle immagini di test.\n",
    "predictions_df = pd.DataFrame(predictions, columns=['Class' + str(i) for i in range(predictions.shape[1])])\n",
    "predictions_df.insert(0, 'GalaxyID', test_image_ids)\n"
   ]
  },
  {
   "cell_type": "code",
   "execution_count": null,
   "metadata": {},
   "outputs": [],
   "source": [
    "# Salvataggio delle predizioni in un file CSV\n",
    "predictions_df.to_csv('galaxies_predictions_new.csv', index=False)"
   ]
  },
  {
   "cell_type": "code",
   "execution_count": null,
   "metadata": {},
   "outputs": [],
   "source": [
    "# Mappatura delle classi alle loro descrizioni\n",
    "class_descriptions = {\n",
    "    0: \"La galassia appare liscia, senza particolari caratteristiche.\",\n",
    "    1: \"La galassia ha caratteristiche visibili o un disco.\",\n",
    "    2: \"La galassia è identificata come stella o artefatto.\",\n",
    "    3: \"La galassia è vista di taglio.\",\n",
    "    4: \"La galassia non è vista di taglio.\",\n",
    "    5: \"La galassia ha una barra visibile.\",\n",
    "    6: \"La galassia non ha una barra visibile.\",\n",
    "    7: \"La galassia ha una struttura a spirale.\",\n",
    "    8: \"La galassia non ha una struttura a spirale.\",\n",
    "    9: \"La galassia ha una forma rotonda.\",\n",
    "    10: \"La galassia ha una forma squadrata.\",\n",
    "    11: \"La galassia non ha un rigonfiamento centrale.\",\n",
    "    12: \"La galassia ha un disco visibile di taglio.\",\n",
    "    13: \"La galassia non ha un disco visibile di taglio.\",\n",
    "    14: \"La galassia ha un rigonfiamento centrale arrotondato.\",\n",
    "    15: \"La galassia ha un rigonfiamento centrale squadrato.\",\n",
    "    16: \"La galassia non ha un rigonfiamento centrale.\",\n",
    "    17: \"La galassia ha un braccio a spirale.\",\n",
    "    18: \"La galassia ha due bracci a spirale.\",\n",
    "    19: \"La galassia ha tre bracci a spirale.\",\n",
    "    20: \"La galassia ha quattro bracci a spirale.\",\n",
    "    21: \"La galassia ha cinque bracci a spirale.\",\n",
    "    22: \"La galassia ha sei bracci a spirale.\",\n",
    "    23: \"La galassia ha sette bracci a spirale.\",\n",
    "    24: \"La galassia ha otto bracci a spirale.\",\n",
    "    25: \"La galassia ha nove bracci a spirale.\",\n",
    "    26: \"La galassia ha dieci bracci a spirale.\",\n",
    "    27: \"La galassia ha un rigonfiamento centrale arrotondato.\",\n",
    "    28: \"La galassia ha un rigonfiamento centrale squadrato.\",\n",
    "    29: \"La galassia non ha un rigonfiamento centrale.\",\n",
    "    30: \"La galassia ha una struttura ad anello.\",\n",
    "    31: \"La galassia non ha una struttura ad anello.\",\n",
    "    32: \"La galassia ha una struttura a lente o arco.\",\n",
    "    33: \"La galassia non ha una struttura a lente o arco.\",\n",
    "    34: \"La galassia è risultata da una fusione.\",\n",
    "    35: \"La galassia non è risultata da una fusione.\",\n",
    "    36: \"La galassia è sovrapposta con altre galassie o stelle.\"\n",
    "}\n"
   ]
  },
  {
   "cell_type": "code",
   "execution_count": null,
   "metadata": {},
   "outputs": [],
   "source": [
    "# Visualizzazione delle immagini di test con le classificazioni\n",
    "def display_predictions(images, image_ids, predictions_df, num_images=10):\n",
    "    plt.figure(figsize=(20, 10))\n",
    "    for i in range(min(num_images, len(images))):\n",
    "        ax = plt.subplot(2, 5, i + 1)\n",
    "        plt.imshow(images[i])\n",
    "        plt.title(f\"GalaxyID: {image_ids[i]}\")\n",
    "    \n",
    "        \n",
    "        # Trova la classificazione con la probabilità più alta\n",
    "        galaxy_id = image_ids[i]\n",
    "        prediction_row = predictions_df[predictions_df['GalaxyID'] == galaxy_id]\n",
    "        prediction_row = prediction_row.drop(columns=['GalaxyID']).values[0]\n",
    "        top_class = np.argmax(prediction_row)\n",
    "        top_class_prob = prediction_row[top_class]\n",
    "        \n",
    "        description = class_descriptions[top_class]\n",
    "        \n",
    "        plt.xlabel(f\"Class: {top_class}, Prob: {top_class_prob:.2f}\")\n",
    "        plt.ylabel(description)\n",
    "        plt.axis(\"off\")\n",
    "\n",
    "    plt.show()"
   ]
  },
  {
   "cell_type": "code",
   "execution_count": null,
   "metadata": {},
   "outputs": [],
   "source": [
    "# Visualizzazione delle immagini di test con le predizioni\n",
    "display_predictions(test_images, test_image_ids, predictions_df, num_images=10)"
   ]
  },
  {
   "cell_type": "code",
   "execution_count": null,
   "metadata": {},
   "outputs": [],
   "source": [
    "# Creazione del file di testo con le descrizioni\n",
    "with open('galaxies_descriptions.txt', 'w') as file:\n",
    "    for i in range(len(test_images)):\n",
    "        galaxy_id = test_image_ids[i]\n",
    "        prediction_row = predictions_df[predictions_df['GalaxyID'] == galaxy_id]\n",
    "        prediction_row = prediction_row.drop(columns=['GalaxyID']).values[0]\n",
    "        top_class = np.argmax(prediction_row)\n",
    "        top_class_prob = prediction_row[top_class]\n",
    "        description = class_descriptions[top_class]\n",
    "        file.write(f\"GalaxyID: {galaxy_id}, Class: {top_class}, Prob: {top_class_prob:.2f}, Description: {description}\\n\")\n",
    "\n",
    "print(\"File 'galaxies_descriptions.txt' creato con successo.\")"
   ]
  }
 ],
 "metadata": {
  "kernelspec": {
   "display_name": "Python 3",
   "language": "python",
   "name": "python3"
  },
  "language_info": {
   "codemirror_mode": {
    "name": "ipython",
    "version": 3
   },
   "file_extension": ".py",
   "mimetype": "text/x-python",
   "name": "python",
   "nbconvert_exporter": "python",
   "pygments_lexer": "ipython3",
   "version": "3.12.3"
  }
 },
 "nbformat": 4,
 "nbformat_minor": 2
}
